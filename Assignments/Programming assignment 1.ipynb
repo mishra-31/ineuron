{
 "cells": [
  {
   "cell_type": "code",
   "execution_count": 1,
   "id": "17cd033d",
   "metadata": {},
   "outputs": [
    {
     "name": "stdout",
     "output_type": "stream",
     "text": [
      "\"Hello Python\"\n"
     ]
    }
   ],
   "source": [
    "#1. Write a Python program to print \"Hello Python\"?\n",
    "print('\"Hello Python\"')"
   ]
  },
  {
   "cell_type": "code",
   "execution_count": 2,
   "id": "17f7ab42",
   "metadata": {},
   "outputs": [
    {
     "name": "stdout",
     "output_type": "stream",
     "text": [
      "Enter both numbers respectively 2 3\n",
      "addition :  5\n",
      "division :  0.6666666666666666\n"
     ]
    }
   ],
   "source": [
    "#2. Write a Python program to do arithmetical operations addition and division.?\n",
    "input_nums = (input('Enter both numbers respectively ')).split()\n",
    "a,b = int(input_nums[0]),int(input_nums[1])\n",
    "print('addition : ',a+b)\n",
    "print('division : ',a/b)"
   ]
  },
  {
   "cell_type": "code",
   "execution_count": 3,
   "id": "ed7ad897",
   "metadata": {},
   "outputs": [
    {
     "name": "stdout",
     "output_type": "stream",
     "text": [
      "Enter base and height of triangle respectively 3 4\n",
      "Area of triangle :  6.0\n"
     ]
    }
   ],
   "source": [
    "#3. Write a Python program to find the area of a triangle?\n",
    "inputs = (input('Enter base and height of triangle respectively ')).split()\n",
    "base , height = int(inputs[0]),int(inputs[1])\n",
    "print('Area of triangle : ', 0.5*base*height)"
   ]
  },
  {
   "cell_type": "code",
   "execution_count": 4,
   "id": "50c6205e",
   "metadata": {},
   "outputs": [
    {
     "name": "stdout",
     "output_type": "stream",
     "text": [
      "2 5\n",
      "4 3\n",
      "Before swaping x = 2 5 and y = 4 3\n",
      "After swaping x = 4 3 and y = 2 5\n"
     ]
    }
   ],
   "source": [
    "#4. Write a Python program to swap two variables?\n",
    "x = input()\n",
    "y = input()\n",
    "print(f'Before swaping x = {x} and y = {y}',)\n",
    "temp = y\n",
    "y = x\n",
    "x = temp\n",
    "print(f'After swaping x = {x} and y = {y}',)"
   ]
  },
  {
   "cell_type": "code",
   "execution_count": 5,
   "id": "d94b2f06",
   "metadata": {},
   "outputs": [
    {
     "data": {
      "text/plain": [
       "0.8710015452782407"
      ]
     },
     "execution_count": 5,
     "metadata": {},
     "output_type": "execute_result"
    }
   ],
   "source": [
    "#5. Write a Python program to generate a random number?\n",
    "import random\n",
    "random.random()"
   ]
  },
  {
   "cell_type": "code",
   "execution_count": null,
   "id": "4e679e54",
   "metadata": {},
   "outputs": [],
   "source": []
  },
  {
   "cell_type": "code",
   "execution_count": null,
   "id": "3c791c14",
   "metadata": {},
   "outputs": [],
   "source": []
  }
 ],
 "metadata": {
  "kernelspec": {
   "display_name": "Python 3",
   "language": "python",
   "name": "python3"
  },
  "language_info": {
   "codemirror_mode": {
    "name": "ipython",
    "version": 3
   },
   "file_extension": ".py",
   "mimetype": "text/x-python",
   "name": "python",
   "nbconvert_exporter": "python",
   "pygments_lexer": "ipython3",
   "version": "3.8.8"
  }
 },
 "nbformat": 4,
 "nbformat_minor": 5
}
