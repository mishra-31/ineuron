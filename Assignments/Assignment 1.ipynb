{
 "cells": [
  {
   "cell_type": "markdown",
   "id": "8ac8b849",
   "metadata": {},
   "source": [
    "1. In the below elements which of them are values or an expression? eg:- values can be\n",
    "integer or string and expressions will be mathematical operators.\n",
    "- * \n",
    "- 'hello' \n",
    "- -87.8 \n",
    "- - \n",
    "- / \n",
    "- + \n",
    "- 6 "
   ]
  },
  {
   "cell_type": "markdown",
   "id": "b24d13dd",
   "metadata": {},
   "source": [
    "values : \n",
    "    \n",
    "- 'hello'\n",
    "- -87.8\n",
    "- 6\n",
    "\n",
    "expressions : \n",
    "    \n",
    "- *\n",
    "- -\n",
    "- /\n",
    "- +"
   ]
  },
  {
   "cell_type": "markdown",
   "id": "ab3855cf",
   "metadata": {},
   "source": [
    "2. What is the difference between string and variable?\n",
    "\n",
    "- String is data type whereas variable is for storing some values like string integers etc."
   ]
  },
  {
   "cell_type": "markdown",
   "id": "2cd6a64b",
   "metadata": {},
   "source": [
    "3. Describe three different data types.\n",
    "\n",
    "- int : They are data types which store whole numbers like -1,34,5\n",
    "- string : They store characters enclosed in quotes \"\" or ''\n",
    "- float : They store decimal like values for example 1.2, 3.44, -6.5433"
   ]
  },
  {
   "cell_type": "markdown",
   "id": "1b33d2a6",
   "metadata": {},
   "source": [
    "4. What is an expression made up of? What do all expressions do?\n",
    "\n",
    "- Expression is made of diferent operators like '+,-,*,/,<,(,|,&' etc and different operands like constant, variable, string etc. Expressions persom some operations on the operands using operators to give some output."
   ]
  },
  {
   "cell_type": "markdown",
   "id": "dac83967",
   "metadata": {},
   "source": [
    "5. This assignment statements, like spam = 10. What is the difference between an\n",
    "expression and a statement?\n",
    "\n",
    "- expression performs some operation and gives some output, whereas statment does not perform some opertaion it just does some small task like creating variable or print lines."
   ]
  },
  {
   "cell_type": "markdown",
   "id": "25225a70",
   "metadata": {},
   "source": [
    "6. After running the following code, what does the variable bacon contain?\n",
    "bacon = 22\n",
    "bacon + 1\n",
    "\n",
    "- bacon will have value as 22"
   ]
  },
  {
   "cell_type": "markdown",
   "id": "fb04227a",
   "metadata": {},
   "source": [
    "7. What should the values of the following two terms be?\n",
    "\n",
    "\n",
    "'spam'+ 'spamspam' : 'spamspamspam'\n",
    "\n",
    "'spam' * 3 : 'spamspamspam'"
   ]
  },
  {
   "cell_type": "markdown",
   "id": "b4cc9c76",
   "metadata": {},
   "source": [
    "8. Why is eggs a valid variable name while 100 is invalid?\n",
    "- because eggs can be considered as a variable to store some value since any variable should be declared by some name or word whereas 100 is a contant or a value which can be stored as a value in eggs variable."
   ]
  },
  {
   "cell_type": "markdown",
   "id": "61153e88",
   "metadata": {},
   "source": [
    "9. What three functions can be used to get the integer, floating-point number, or string\n",
    "version of a value?\n",
    " - int(), float(), str()"
   ]
  },
  {
   "cell_type": "markdown",
   "id": "45d22cbe",
   "metadata": {},
   "source": [
    "10. Why does this expression cause an error? How can you fix it?\n",
    "'I have eaten' + 99 + 'burritos'\n",
    "\n",
    "- It causes error because concatenation of string is not allowed with int and 99 is int. This can be fixed by converting 99 to string as 'I have eaten' + '99' + 'burritos'\n"
   ]
  },
  {
   "cell_type": "code",
   "execution_count": null,
   "id": "d09f3da5",
   "metadata": {},
   "outputs": [],
   "source": []
  }
 ],
 "metadata": {
  "kernelspec": {
   "display_name": "Python 3",
   "language": "python",
   "name": "python3"
  },
  "language_info": {
   "codemirror_mode": {
    "name": "ipython",
    "version": 3
   },
   "file_extension": ".py",
   "mimetype": "text/x-python",
   "name": "python",
   "nbconvert_exporter": "python",
   "pygments_lexer": "ipython3",
   "version": "3.8.8"
  }
 },
 "nbformat": 4,
 "nbformat_minor": 5
}
