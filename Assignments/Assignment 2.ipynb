{
 "cells": [
  {
   "cell_type": "markdown",
   "id": "03312ff5",
   "metadata": {},
   "source": [
    "Q1.What are the two values of the Boolean data type? How do you write them?\n",
    "- True and False are two values of boolean data type and we write them as true false or typecast them using bool()"
   ]
  },
  {
   "cell_type": "markdown",
   "id": "c50da66f",
   "metadata": {},
   "source": [
    "Q2. What are the three different types of Boolean operators?\n",
    "- And, or, not"
   ]
  },
  {
   "cell_type": "markdown",
   "id": "6a98583e",
   "metadata": {},
   "source": [
    "Q3. Make a list of each Boolean operator's truth tables (i.e. every possible combination of Boolean values for the operator and what it evaluate ).\n",
    "\n",
    "- True == True => True\n",
    "- True == False => False\n",
    "- False == False => True\n",
    "- False == True => False\n",
    "- True and True => True \n",
    "- True and False => False\n",
    "- False and False => False\n",
    "- False and True => False\n",
    "- True or True => True\n",
    "- True or False => True\n",
    "- False or False => False\n",
    "- False or True => True\n",
    "- not True => False\n",
    "- not False => True"
   ]
  },
  {
   "cell_type": "markdown",
   "id": "8ecbb552",
   "metadata": {},
   "source": [
    "Q4. What are the values of the following expressions?\n",
    "\n",
    "- (5 > 4) and (3 == 5) => False\n",
    "- not (5 > 4) => False\n",
    "- (5 > 4) or (3 == 5) => True\n",
    "- not ((5 > 4) or (3 == 5)) => False\n",
    "- (True and True) and (True == False) => False\n",
    "- (not False) or (not True) => Ture"
   ]
  },
  {
   "cell_type": "markdown",
   "id": "2a536e0d",
   "metadata": {},
   "source": [
    "Q5. What are the six comparison operators?\n",
    "- < , > , == , >= , <= , !="
   ]
  },
  {
   "cell_type": "markdown",
   "id": "8b93eb8e",
   "metadata": {},
   "source": [
    "Q6. How do you tell the difference between the equal to and assignment operators?Describe a\n",
    "condition and when you would use one.\n",
    "- equal to operator contains double equal to when we compare two values '==' , whereas assignment operator contains only one equalto sign which is used to store a value in a variable. For example 5 == 3 is equalto opertaion and x = 3 is assignment operation."
   ]
  },
  {
   "cell_type": "raw",
   "id": "f922198d",
   "metadata": {},
   "source": [
    "Q7. Identify the three blocks in this code:\n",
    "\n",
    "spam = 0\n",
    "\n",
    "if spam == 10:     --------------------\n",
    "                                      |------------- First Block\n",
    "print('eggs')      --------------------\n",
    "\n",
    "if spam > 5:       --------------------\n",
    "                                      |-------------- Second Block\n",
    "print('bacon')     --------------------\n",
    "\n",
    "else:\n",
    "\n",
    "print('ham')       --------------------\n",
    "                                       |\n",
    "print('spam')                          |-------------- Third Block\n",
    "                                       |\n",
    "print('spam')      --------------------"
   ]
  },
  {
   "cell_type": "code",
   "execution_count": 5,
   "id": "4a40a5cd",
   "metadata": {},
   "outputs": [
    {
     "name": "stdout",
     "output_type": "stream",
     "text": [
      "2\n",
      "Howdy\n"
     ]
    }
   ],
   "source": [
    "# Q8. Write code that prints Hello if 1 is stored in spam, prints Howdy if 2 is stored in spam, and prints\n",
    "# Greetings! if anything else is stored in spam.\n",
    "spam = int(input())\n",
    "if spam == 1:\n",
    "    print('Hello')\n",
    "elif spam == 2:\n",
    "    print('Howdy')\n",
    "else :\n",
    "    print('Greetings!')"
   ]
  },
  {
   "cell_type": "markdown",
   "id": "e6096b0b",
   "metadata": {},
   "source": [
    "Q9.If your programme is stuck in an endless loop, what keys you’ll press?\n",
    "\n",
    "- will terminate the execution by interuppting kernel"
   ]
  },
  {
   "cell_type": "code",
   "execution_count": 20,
   "id": "03d6eff7",
   "metadata": {},
   "outputs": [
    {
     "name": "stdout",
     "output_type": "stream",
     "text": [
      "BREAK\n",
      "10\n",
      "20\n",
      "30\n",
      "\n",
      "CONTINUE\n",
      "10\n",
      "20\n",
      "30\n",
      "40\n",
      "60\n",
      "90\n"
     ]
    }
   ],
   "source": [
    "#Q10. How can you tell the difference between break and continue?\n",
    "\n",
    "##break terminates the loop on condition equal to true\n",
    "print('BREAK')\n",
    "for i in [10,20,30,40,60,90]:\n",
    "    print(i)\n",
    "    if i % 3 == 0:\n",
    "        break\n",
    "print()        \n",
    "## whereas continue statement keeps on executing except for elemnt which has met true condition        \n",
    "print('CONTINUE')        \n",
    "for j in [10,20,30,40,60,90]:\n",
    "    if j == 6:\n",
    "        continue\n",
    "    else:\n",
    "        print(j)"
   ]
  },
  {
   "cell_type": "markdown",
   "id": "df65369b",
   "metadata": {},
   "source": [
    "Q11. In a for loop, what is the difference between range(10), range(0, 10), and range(0, 10, 1)?\n",
    "\n",
    "- range(10) will defalut start from 0\n",
    "- whereas range(0,10) has been specified with starting element 0 and ending 10\n",
    "- in range(0,10,1) function it has been given arguments starting element, ending element, and a step element to skip by 1"
   ]
  },
  {
   "cell_type": "code",
   "execution_count": 22,
   "id": "5e0f3cb1",
   "metadata": {},
   "outputs": [
    {
     "name": "stdout",
     "output_type": "stream",
     "text": [
      "for loop\n",
      "1\n",
      "2\n",
      "3\n",
      "4\n",
      "5\n",
      "6\n",
      "7\n",
      "8\n",
      "9\n",
      "10\n",
      "\n",
      "while loop\n",
      "1\n",
      "2\n",
      "3\n",
      "4\n",
      "5\n",
      "6\n",
      "7\n",
      "8\n",
      "9\n",
      "10\n"
     ]
    }
   ],
   "source": [
    "# Q12. Write a short program that prints the numbers 1 to 10 using a for loop. Then write an equivalent\n",
    "# program that prints the numbers 1 to 10 using a while loop.\n",
    "\n",
    "print('for loop')\n",
    "for i in range(1,11):\n",
    "    print(i)\n",
    "    \n",
    "print()\n",
    "\n",
    "print('while loop')\n",
    "i=1\n",
    "while i<=10:\n",
    "    print(i)\n",
    "    i+=1"
   ]
  },
  {
   "cell_type": "markdown",
   "id": "a941024c",
   "metadata": {},
   "source": [
    "Q13. If you had a function named bacon() inside a module named spam, how would you call it after\n",
    "importing spam?\n",
    "\n",
    "- from spam import bacon\n",
    "\n",
    "- import spam\n",
    "  bacon = spam.bacon()"
   ]
  },
  {
   "cell_type": "code",
   "execution_count": null,
   "id": "3550303b",
   "metadata": {},
   "outputs": [],
   "source": []
  }
 ],
 "metadata": {
  "kernelspec": {
   "display_name": "Python 3",
   "language": "python",
   "name": "python3"
  },
  "language_info": {
   "codemirror_mode": {
    "name": "ipython",
    "version": 3
   },
   "file_extension": ".py",
   "mimetype": "text/x-python",
   "name": "python",
   "nbconvert_exporter": "python",
   "pygments_lexer": "ipython3",
   "version": "3.8.8"
  }
 },
 "nbformat": 4,
 "nbformat_minor": 5
}
