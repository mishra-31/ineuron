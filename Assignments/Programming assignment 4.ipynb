{
 "cells": [
  {
   "cell_type": "code",
   "execution_count": 47,
   "id": "7bac7bb6",
   "metadata": {},
   "outputs": [
    {
     "name": "stdout",
     "output_type": "stream",
     "text": [
      "Factorial of 5 is : 120\n"
     ]
    }
   ],
   "source": [
    "# 1. Write a Python Program to Find the Factorial of a Number?\n",
    "def factorial(num):\n",
    "    factorial = 1\n",
    "    for i in range(num,0,-1):\n",
    "        factorial = factorial*i\n",
    "    print(f'Factorial of {num} is : {factorial}')\n",
    "factorial(5)"
   ]
  },
  {
   "cell_type": "code",
   "execution_count": 46,
   "id": "9a28b23d",
   "metadata": {},
   "outputs": [
    {
     "name": "stdout",
     "output_type": "stream",
     "text": [
      "2 * 1 = 2\n",
      "2 * 2 = 4\n",
      "2 * 3 = 6\n",
      "2 * 4 = 8\n",
      "2 * 5 = 10\n",
      "2 * 6 = 12\n",
      "2 * 7 = 14\n",
      "2 * 8 = 16\n",
      "2 * 9 = 18\n",
      "2 * 10 = 20\n",
      "2 * 11 = 22\n",
      "2 * 12 = 24\n"
     ]
    }
   ],
   "source": [
    "# 2. Write a Python Program to Display the multiplication Table?\n",
    "def multiplication_table(number,table_upto):\n",
    "    i=1\n",
    "    while i<=table_upto:\n",
    "        print(f'{number} * {i} = {number*i}')\n",
    "        i+=1\n",
    "multiplication_table(2,12)"
   ]
  },
  {
   "cell_type": "code",
   "execution_count": 48,
   "id": "43e59c71",
   "metadata": {},
   "outputs": [
    {
     "name": "stdout",
     "output_type": "stream",
     "text": [
      "1 1 2 3 5 8 13 21 "
     ]
    }
   ],
   "source": [
    "# 3. Write a Python Program to Print the Fibonacci sequence?\n",
    "def fibbonaci_series(n):\n",
    "    a = 1\n",
    "    b = 1\n",
    "    for i in range(n):\n",
    "        print(a,end=\" \")\n",
    "        c = a+b\n",
    "        a=b\n",
    "        b=c\n",
    "fibbonaci_series(8)"
   ]
  },
  {
   "cell_type": "code",
   "execution_count": 59,
   "id": "913f83fc",
   "metadata": {},
   "outputs": [
    {
     "data": {
      "text/plain": [
       "'armstrong number'"
      ]
     },
     "execution_count": 59,
     "metadata": {},
     "output_type": "execute_result"
    }
   ],
   "source": [
    "# 4. Write a Python Program to Check Armstrong Number?\n",
    "def armstrong_no(num):\n",
    "    num = str(num)\n",
    "    temp=0\n",
    "    for i in num:\n",
    "        temp=temp+(int(i)*int(i)*int(i))\n",
    "    if temp==int(num):\n",
    "        return 'armstrong number'\n",
    "    else:\n",
    "        return 'not armstrong number'\n",
    "armstrong_no(153)"
   ]
  },
  {
   "cell_type": "code",
   "execution_count": 60,
   "id": "9430b3b6",
   "metadata": {},
   "outputs": [
    {
     "data": {
      "text/plain": [
       "[153, 370, 371, 407]"
      ]
     },
     "execution_count": 60,
     "metadata": {},
     "output_type": "execute_result"
    }
   ],
   "source": [
    "# 5. Write a Python Program to Find Armstrong Number in an Interval?\n",
    "def armstrong_number_in_an_interval(start,end):\n",
    "    armstrong_num=[]\n",
    "    for i in range(start,end):\n",
    "        if armstrong_no(i)=='armstrong number':\n",
    "            armstrong_num.append(i)\n",
    "    return armstrong_num\n",
    "armstrong_number_in_an_interval(100,500)"
   ]
  },
  {
   "cell_type": "code",
   "execution_count": 49,
   "id": "1b1140ce",
   "metadata": {},
   "outputs": [
    {
     "data": {
      "text/plain": [
       "55"
      ]
     },
     "execution_count": 49,
     "metadata": {},
     "output_type": "execute_result"
    }
   ],
   "source": [
    "# 6. Write a Python Program to Find the Sum of Natural Numbers?\n",
    "def sum_of_natural_numbers(n):\n",
    "    summ=0\n",
    "    i=1\n",
    "    while i<=n:\n",
    "        summ = i+summ\n",
    "        i+=1\n",
    "    return summ\n",
    "sum_of_natural_numbers(10)"
   ]
  }
 ],
 "metadata": {
  "kernelspec": {
   "display_name": "Python 3",
   "language": "python",
   "name": "python3"
  },
  "language_info": {
   "codemirror_mode": {
    "name": "ipython",
    "version": 3
   },
   "file_extension": ".py",
   "mimetype": "text/x-python",
   "name": "python",
   "nbconvert_exporter": "python",
   "pygments_lexer": "ipython3",
   "version": "3.8.8"
  }
 },
 "nbformat": 4,
 "nbformat_minor": 5
}
